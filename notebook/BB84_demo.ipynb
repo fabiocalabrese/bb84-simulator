{
 "cells": [
  {
   "cell_type": "markdown",
   "metadata": {},
   "source": [
    "# BB84 Quantum Key Distribution Simulator - Demo (Ready-to-Run)\n",
    "Autore: Fabio Calabrese  \n",
    "Email: fabiocalabrese88@gmail.com\n",
    "\n",
    "Questa versione non richiede input manuale: tutti i parametri sono preimpostati."
   ]
  },
  {
   "cell_type": "code",
   "execution_count": null,
   "metadata": {},
   "outputs": [],
   "source": [
    "import numpy as np\n",
    "import matplotlib.pyplot as plt\n",
    "from bb84_alternative import *"
   ]
  },
  {
   "cell_type": "code",
   "execution_count": null,
   "metadata": {},
   "outputs": [],
   "source": [
    "# Parametri preimpostati\n",
    "n = 100              # Numero di bit per run\n",
    "sample_size = 10     # Dimensione del campione per stima errore\n",
    "runs = 100           # Numero di run per ciascun channel_error\n",
    "channel_errors = [0, 0.01, 0.05, 0.1, 0.2]\n",
    "eve_active = True    # True = Eve attiva, False = Eve disattiva"
   ]
  },
  {
   "cell_type": "code",
   "execution_count": null,
   "metadata": {},
   "outputs": [],
   "source": [
    "# Simulazione multipla\n",
    "error_mean_eve_off = []\n",
    "error_std_eve_off = []\n",
    "error_mean_eve_on = []\n",
    "error_std_eve_on = []\n",
    "\n",
    "errors_off_final = []\n",
    "errors_on_final = []\n",
    "\n",
    "for ce in channel_errors:\n",
    "    # Eve disattiva\n",
    "    errors_off = [simulate_bb84(n, sample_size, eve_active=False, channel_error=ce) for _ in range(runs)]\n",
    "    error_mean_eve_off.append(np.mean(errors_off))\n",
    "    error_std_eve_off.append(np.std(errors_off))\n",
    "    if ce == channel_errors[-1]:\n",
    "        errors_off_final = errors_off\n",
    "    \n",
    "    # Eve attiva\n",
    "    errors_on = [simulate_bb84(n, sample_size, eve_active=True, channel_error=ce) for _ in range(runs)]\n",
    "    error_mean_eve_on.append(np.mean(errors_on))\n",
    "    error_std_eve_on.append(np.std(errors_on))\n",
    "    if ce == channel_errors[-1]:\n",
    "        errors_on_final = errors_on"
   ]
  },
  {
   "cell_type": "code",
   "execution_count": null,
   "metadata": {},
   "outputs": [],
   "source": [
    "# Line plot con banda ±σ\n",
    "plt.figure(figsize=(8, 5))\n",
    "\n",
    "mean_off = np.array(error_mean_eve_off)\n",
    "std_off = np.array(error_std_eve_off)\n",
    "plt.plot(channel_errors, mean_off, marker='o', label=\"Eve off\")\n",
    "plt.fill_between(channel_errors, mean_off - std_off, mean_off + std_off, color='skyblue', alpha=0.3)\n",
    "\n",
    "mean_on = np.array(error_mean_eve_on)\n",
    "std_on = np.array(error_std_eve_on)\n",
    "plt.plot(channel_errors, mean_on, marker='o', label=\"Eve on\")\n",
    "plt.fill_between(channel_errors, mean_on - std_on, mean_on + std_on, color='salmon', alpha=0.3)\n",
    "\n",
    "plt.xlabel(\"Probabilità di errore del canale\")\n",
    "plt.ylabel(\"Errore medio stimato\")\n",
    "plt.title(\"Errore stimato nel BB84 in funzione del rumore del canale\")\n",
    "plt.grid(True)\n",
    "plt.legend()\n",
    "plt.show()"
   ]
  },
  {
   "cell_type": "code",
   "execution_count": null,
   "metadata": {},
   "outputs": [],
   "source": [
    "# Istogrammi finali\n",
    "plt.figure(figsize=(12,5))\n",
    "\n",
    "plt.subplot(1,2,1)\n",
    "plt.hist(errors_off_final, bins=30, color='skyblue', edgecolor='black')\n",
    "plt.title(\"Distribuzione errore Eve off (ultimo channel_error)\")\n",
    "plt.xlabel(\"Errore stimato\")\n",
    "plt.ylabel(\"Frequenza\")\n",
    "\n",
    "plt.subplot(1,2,2)\n",
    "plt.hist(errors_on_final, bins=30, color='salmon', edgecolor='black')\n",
    "plt.title(\"Distribuzione errore Eve on (ultimo channel_error)\")\n",
    "plt.xlabel(\"Errore stimato\")\n",
    "plt.ylabel(\"Frequenza\")\n",
    "\n",
    "plt.tight_layout()\n",
    "plt.show()"
   ]
  }
 ],
 "metadata": {
  "kernelspec": {
   "display_name": "Python 3",
   "language": "python",
   "name": "python3"
  },
  "language_info": {
   "name": "python",
   "version": "3.10"
  }
 },
 "nbformat": 4,
 "nbformat_minor": 5
}
